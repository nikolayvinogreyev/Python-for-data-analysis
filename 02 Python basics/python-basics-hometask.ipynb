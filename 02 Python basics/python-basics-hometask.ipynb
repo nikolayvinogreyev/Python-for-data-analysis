{
 "cells": [
  {
   "cell_type": "markdown",
   "metadata": {},
   "source": [
    "**Задание 1**. Даны 2 строки: *long_phrase* и *short_phrase*. \n",
    "Напишите код, который проверяет действительно ли длинная фраза *long_phrase* длиннее короткой *short_phrase*. И выводит *True* или *False* в зависимости от результата сравнения."
   ]
  },
  {
   "cell_type": "code",
   "execution_count": 2,
   "metadata": {},
   "outputs": [],
   "source": [
    "long_phrase = 'Насколько проще было бы писать программы, если бы не заказчики'\n",
    "short_phrase = '640Кб должно хватить для любых задач. Билл Гейтс (по легенде)'"
   ]
  },
  {
   "cell_type": "code",
   "execution_count": 3,
   "metadata": {},
   "outputs": [
    {
     "name": "stdout",
     "output_type": "stream",
     "text": [
      "True\n"
     ]
    }
   ],
   "source": [
    "print(long_phrase > short_phrase)"
   ]
  },
  {
   "cell_type": "markdown",
   "metadata": {},
   "source": [
    "**Задание 2**. Дано значение объема файла в байтах (*в мегабайте 2^20 байт*). Напишите перевод этого значения в мегабайты в формате: \"*Объем файла равен 213.68Mb*\"."
   ]
  },
  {
   "cell_type": "code",
   "execution_count": 4,
   "metadata": {},
   "outputs": [
    {
     "name": "stdout",
     "output_type": "stream",
     "text": [
      "Объем файла равен 0.019073486328125Mb\n"
     ]
    }
   ],
   "source": [
    "fileSizeBites = 20000\n",
    "fileSizeMBites = fileSizeBites/(2**20)\n",
    "phrase = \"Объем файла равен \" + str(fileSizeMBites) + \"Mb\"\n",
    "print(phrase)"
   ]
  },
  {
   "cell_type": "markdown",
   "metadata": {},
   "source": [
    "**Задание 3**. Разработать приложение для определения знака зодиака по дате рождения. Пример:\n",
    "\n",
    "Введите месяц: март\n",
    "\n",
    "Введите число: 6\n",
    "\n",
    "Вывод:\n",
    "Рыбы"
   ]
  },
  {
   "cell_type": "code",
   "execution_count": 27,
   "metadata": {},
   "outputs": [
    {
     "name": "stdout",
     "output_type": "stream",
     "text": [
      "Введите месяц:папор\n",
      "Введите число:33\n",
      "Вывод: Неопределен\n"
     ]
    }
   ],
   "source": [
    "month = input(\"Введите месяц: \")\n",
    "date = int(input(\"Введите число: \"))\n",
    "# Овен\n",
    "aries = (month == \"март\" and (date >= 21 and date <= 31)) or (month == \"апрель\" and (date >= 1 and date <= 20))\n",
    "# Телец\n",
    "taurus = (month == \"апрель\" and (date >= 21 and date <= 30)) or (month == \"май\" and (date >= 1 and date <= 21))\n",
    "# Близнецы\n",
    "gemini = (month == \"май\" and (date >= 22 and date <= 31)) or (month == \"июнь\" and (date >= 1 and date <= 21))\n",
    "# Рак\n",
    "cancer = (month == \"июнь\" and (date >= 22 and date <= 30)) or (month == \"июль\" and (date >= 1 and date <= 22))\n",
    "# Лев\n",
    "leo = (month == \"июль\" and (date >= 23 and date <= 31)) or (month == \"август\" and (date >= 1 and date <= 23))\n",
    "# Дева\n",
    "virgo = (month == \"август\" and (date >= 24 and date <= 31)) or (month == \"сентябрь\" and (date >= 1 and date <= 23))\n",
    "# Весы\n",
    "libra = (month == \"сентябрь\" and (date >= 24 and date <= 30)) or (month == \"октябрь\" and (date >= 1 and date <= 23))\n",
    "# Скорпион\n",
    "scorpio = (month == \"октябрь\" and (date >= 24 and date <= 31)) or (month == \"ноябрь\" and (date >= 1 and date <= 22))\n",
    "# Стрелец\n",
    "sagittarius = (month == \"ноябрь\" and (date >= 23 and date <= 30)) or (month == \"декабрь\" and (date >= 1 and date <= 21))\n",
    "# Козерог\n",
    "capricorn = (month == \"декабрь\" and (date >= 22 and date <= 31)) or (month == \"январь\" and (date >= 1 and date <= 20))\n",
    "# Водолей\n",
    "aquarius = (month == \"январь\" and (date >= 21 and date <= 30)) or (month == \"февраль\" and (date >= 1 and date <= 18))\n",
    "# Рыбы\n",
    "pisces = (month == \"февраль\" and (date >= 19 and date <= 29)) or (month == \"март\" and (date >= 1 and date <= 20))\n",
    "\n",
    "zodiacSign = \"Неопределен\"\n",
    "\n",
    "if aries:\n",
    "    zodiacSign = \"Овен\"\n",
    "elif taurus:\n",
    "    zodiacSign = \"Телец\"\n",
    "elif gemini:\n",
    "    zodiacSign = \"Близнецы\"\n",
    "elif cancer:\n",
    "    zodiacSign = \"Рак\"\n",
    "elif leo:\n",
    "    zodiacSign = \"Лев\"\n",
    "elif virgo:\n",
    "    zodiacSign = \"Дева\"\n",
    "elif libra:\n",
    "    zodiacSign = \"Весы\"\n",
    "elif scorpio:\n",
    "    zodiacSign = \"Скорпион\"\n",
    "elif sagittarius:\n",
    "    zodiacSign = \"Стрелец\"\n",
    "elif capricorn:\n",
    "    zodiacSign = \"Козерог\"\n",
    "elif aquarius:\n",
    "    zodiacSign = \"Водолей\"\n",
    "elif pisces:\n",
    "    zodiacSign = \"Рыбы\"\n",
    "\n",
    "print(\"Вывод: \" + zodiacSign)"
   ]
  },
  {
   "cell_type": "markdown",
   "metadata": {},
   "source": [
    "**Задание 4**. Нужно разработать приложение для финансового планирования.\n",
    "Приложение учитывает сколько уходит на ипотеку, \"на жизнь\" и сколько нужно отложить на пенсию.\n",
    "Пользователь вводит:\n",
    "- заработанную плату в месяц.\n",
    "- сколько процентов от ЗП уходит на ипотеку.\n",
    "- сколько процентов от ЗП уходит \"на жизнь\".\n",
    "- сколько раз приходит премия в год.\n",
    "\n",
    "Остальная часть заработанной платы откладывается на пенсию.\n",
    "\n",
    "Также пользователю приходит премия в размере зарплаты, от которой половина уходит на отпуск, а вторая половина откладывается.\n",
    "\n",
    "Программа должна учитывать сколько премий было в год.\n",
    "\n",
    "Нужно вывести сколько денег тратит пользователь на ипотеку и сколько он накопит за год.\n",
    "\n",
    "Пример:\n",
    "\n",
    "Введите заработанную плату в месяц: 100000\n",
    "\n",
    "Введите сколько процентов уходит на ипотеку: 30\n",
    "\n",
    "Введите сколько процентов уходит на жизнь: 50\n",
    "\n",
    "Введите количество премий за год: 2\n",
    "\n",
    "Вывод:\n",
    "На ипотеку было потрачено: 360000 рублей\n",
    "Было накоплено: 340000 рублей"
   ]
  },
  {
   "cell_type": "code",
   "execution_count": 32,
   "metadata": {},
   "outputs": [
    {
     "name": "stdout",
     "output_type": "stream",
     "text": [
      "Введите заработанную плату в месяц: 100000\n",
      "Введите сколько процетов уходит на ипотеку: 30\n",
      "Введите сколько процентов уходит на жизнь: 50\n",
      "Введите количество премий за год: 2\n",
      "Вывод: На ипотеку было потрачено: 360000.0 рублей. Было накоплено: 340000.0 рублей.\n"
     ]
    }
   ],
   "source": [
    "# Заработная плата\n",
    "wage = float(input(\"Введите заработанную плату в месяц: \"))\n",
    "# Процент по ипотеке\n",
    "mortgagePercent = float(input(\"Введите сколько процетов уходит на ипотеку: \"))\n",
    "# Процент на жизнь\n",
    "livingPercent = float(input(\"Введите сколько процентов уходит на жизнь: \"))\n",
    "# Количество премий за год\n",
    "premiumCount = int(input(\"Введите количество премий за год: \"))\n",
    "# Итого на ипотеку в год\n",
    "mortgageSum = wage * mortgagePercent / 100 * 12\n",
    "# Итого на жизнь в год\n",
    "livingSum = wage * livingPercent / 100 * 12\n",
    "# Итого премий\n",
    "premiumSum = wage * premiumCount\n",
    "# Итого сбережения\n",
    "savings = wage * 12 - mortgageSum - livingSum + premiumSum / 2\n",
    "\n",
    "print(\"Вывод: На ипотеку было потрачено: \" + str(mortgageSum) + \" рублей. Было накоплено: \" + str(savings) + \" рублей.\")"
   ]
  },
  {
   "cell_type": "code",
   "execution_count": null,
   "metadata": {},
   "outputs": [],
   "source": []
  }
 ],
 "metadata": {
  "kernelspec": {
   "display_name": "Python 3",
   "language": "python",
   "name": "python3"
  },
  "language_info": {
   "codemirror_mode": {
    "name": "ipython",
    "version": 3
   },
   "file_extension": ".py",
   "mimetype": "text/x-python",
   "name": "python",
   "nbconvert_exporter": "python",
   "pygments_lexer": "ipython3",
   "version": "3.7.0"
  }
 },
 "nbformat": 4,
 "nbformat_minor": 2
}
